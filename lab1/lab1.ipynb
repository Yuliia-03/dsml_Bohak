{
 "cells": [
  {
   "cell_type": "code",
   "execution_count": 1,
   "metadata": {
    "collapsed": true
   },
   "outputs": [
    {
     "data": {
      "text/plain": "        Age  Gender  Impressions  Clicks  Signed_In\n0        36       0            3       0          1\n1        73       1            3       0          1\n2        30       0            3       0          1\n3        49       1            3       0          1\n4        47       1           11       0          1\n...     ...     ...          ...     ...        ...\n458436    0       0            2       0          0\n458437    0       0            4       0          0\n458438   72       1            5       0          1\n458439    0       0            5       0          0\n458440    0       0            3       0          0\n\n[458441 rows x 5 columns]",
      "text/html": "<div>\n<style scoped>\n    .dataframe tbody tr th:only-of-type {\n        vertical-align: middle;\n    }\n\n    .dataframe tbody tr th {\n        vertical-align: top;\n    }\n\n    .dataframe thead th {\n        text-align: right;\n    }\n</style>\n<table border=\"1\" class=\"dataframe\">\n  <thead>\n    <tr style=\"text-align: right;\">\n      <th></th>\n      <th>Age</th>\n      <th>Gender</th>\n      <th>Impressions</th>\n      <th>Clicks</th>\n      <th>Signed_In</th>\n    </tr>\n  </thead>\n  <tbody>\n    <tr>\n      <th>0</th>\n      <td>36</td>\n      <td>0</td>\n      <td>3</td>\n      <td>0</td>\n      <td>1</td>\n    </tr>\n    <tr>\n      <th>1</th>\n      <td>73</td>\n      <td>1</td>\n      <td>3</td>\n      <td>0</td>\n      <td>1</td>\n    </tr>\n    <tr>\n      <th>2</th>\n      <td>30</td>\n      <td>0</td>\n      <td>3</td>\n      <td>0</td>\n      <td>1</td>\n    </tr>\n    <tr>\n      <th>3</th>\n      <td>49</td>\n      <td>1</td>\n      <td>3</td>\n      <td>0</td>\n      <td>1</td>\n    </tr>\n    <tr>\n      <th>4</th>\n      <td>47</td>\n      <td>1</td>\n      <td>11</td>\n      <td>0</td>\n      <td>1</td>\n    </tr>\n    <tr>\n      <th>...</th>\n      <td>...</td>\n      <td>...</td>\n      <td>...</td>\n      <td>...</td>\n      <td>...</td>\n    </tr>\n    <tr>\n      <th>458436</th>\n      <td>0</td>\n      <td>0</td>\n      <td>2</td>\n      <td>0</td>\n      <td>0</td>\n    </tr>\n    <tr>\n      <th>458437</th>\n      <td>0</td>\n      <td>0</td>\n      <td>4</td>\n      <td>0</td>\n      <td>0</td>\n    </tr>\n    <tr>\n      <th>458438</th>\n      <td>72</td>\n      <td>1</td>\n      <td>5</td>\n      <td>0</td>\n      <td>1</td>\n    </tr>\n    <tr>\n      <th>458439</th>\n      <td>0</td>\n      <td>0</td>\n      <td>5</td>\n      <td>0</td>\n      <td>0</td>\n    </tr>\n    <tr>\n      <th>458440</th>\n      <td>0</td>\n      <td>0</td>\n      <td>3</td>\n      <td>0</td>\n      <td>0</td>\n    </tr>\n  </tbody>\n</table>\n<p>458441 rows × 5 columns</p>\n</div>"
     },
     "execution_count": 1,
     "metadata": {},
     "output_type": "execute_result"
    }
   ],
   "source": [
    "import pandas as pd\n",
    "\n",
    "data = pd.read_csv(\"./data/nyt1.csv\")\n",
    "data"
   ]
  },
  {
   "cell_type": "code",
   "execution_count": 2,
   "outputs": [
    {
     "data": {
      "text/plain": "array([  0,   7,   8,   9,  10,  11,  12,  13,  14,  15,  16,  17,  18,\n        19,  20,  21,  22,  23,  24,  25,  26,  27,  28,  29,  30,  31,\n        32,  33,  34,  35,  36,  37,  38,  39,  40,  41,  42,  43,  44,\n        45,  46,  47,  48,  49,  50,  51,  52,  53,  54,  55,  56,  57,\n        58,  59,  60,  61,  62,  63,  64,  65,  66,  67,  68,  69,  70,\n        71,  72,  73,  74,  75,  76,  77,  78,  79,  80,  81,  82,  83,\n        84,  85,  86,  87,  88,  89,  90,  91,  92,  93,  94,  95,  96,\n        97,  98,  99, 100, 101, 102, 103, 104, 107, 108], dtype=int64)"
     },
     "execution_count": 2,
     "metadata": {},
     "output_type": "execute_result"
    }
   ],
   "source": [
    "data.Age.sort_values().unique()"
   ],
   "metadata": {
    "collapsed": false,
    "pycharm": {
     "name": "#%%\n"
    }
   }
  },
  {
   "cell_type": "code",
   "execution_count": 3,
   "outputs": [
    {
     "data": {
      "text/plain": "     Gender  Impressions  Clicks  Signed_In\nAge                                        \n0    137106       137106  137106     137106\n7         5            5       5          5\n8        15           15      15         15\n9        48           48      48         48\n10      113          113     113        113\n..      ...          ...     ...        ...\n102       2            2       2          2\n103       2            2       2          2\n104       1            1       1          1\n107       2            2       2          2\n108       1            1       1          1\n\n[101 rows x 4 columns]",
      "text/html": "<div>\n<style scoped>\n    .dataframe tbody tr th:only-of-type {\n        vertical-align: middle;\n    }\n\n    .dataframe tbody tr th {\n        vertical-align: top;\n    }\n\n    .dataframe thead th {\n        text-align: right;\n    }\n</style>\n<table border=\"1\" class=\"dataframe\">\n  <thead>\n    <tr style=\"text-align: right;\">\n      <th></th>\n      <th>Gender</th>\n      <th>Impressions</th>\n      <th>Clicks</th>\n      <th>Signed_In</th>\n    </tr>\n    <tr>\n      <th>Age</th>\n      <th></th>\n      <th></th>\n      <th></th>\n      <th></th>\n    </tr>\n  </thead>\n  <tbody>\n    <tr>\n      <th>0</th>\n      <td>137106</td>\n      <td>137106</td>\n      <td>137106</td>\n      <td>137106</td>\n    </tr>\n    <tr>\n      <th>7</th>\n      <td>5</td>\n      <td>5</td>\n      <td>5</td>\n      <td>5</td>\n    </tr>\n    <tr>\n      <th>8</th>\n      <td>15</td>\n      <td>15</td>\n      <td>15</td>\n      <td>15</td>\n    </tr>\n    <tr>\n      <th>9</th>\n      <td>48</td>\n      <td>48</td>\n      <td>48</td>\n      <td>48</td>\n    </tr>\n    <tr>\n      <th>10</th>\n      <td>113</td>\n      <td>113</td>\n      <td>113</td>\n      <td>113</td>\n    </tr>\n    <tr>\n      <th>...</th>\n      <td>...</td>\n      <td>...</td>\n      <td>...</td>\n      <td>...</td>\n    </tr>\n    <tr>\n      <th>102</th>\n      <td>2</td>\n      <td>2</td>\n      <td>2</td>\n      <td>2</td>\n    </tr>\n    <tr>\n      <th>103</th>\n      <td>2</td>\n      <td>2</td>\n      <td>2</td>\n      <td>2</td>\n    </tr>\n    <tr>\n      <th>104</th>\n      <td>1</td>\n      <td>1</td>\n      <td>1</td>\n      <td>1</td>\n    </tr>\n    <tr>\n      <th>107</th>\n      <td>2</td>\n      <td>2</td>\n      <td>2</td>\n      <td>2</td>\n    </tr>\n    <tr>\n      <th>108</th>\n      <td>1</td>\n      <td>1</td>\n      <td>1</td>\n      <td>1</td>\n    </tr>\n  </tbody>\n</table>\n<p>101 rows × 4 columns</p>\n</div>"
     },
     "execution_count": 3,
     "metadata": {},
     "output_type": "execute_result"
    }
   ],
   "source": [
    "data.groupby(\"Age\").count()"
   ],
   "metadata": {
    "collapsed": false,
    "pycharm": {
     "name": "#%%\n"
    }
   }
  },
  {
   "cell_type": "code",
   "execution_count": 4,
   "outputs": [
    {
     "data": {
      "text/plain": "           Age  Impressions  Clicks  Signed_In\nGender                                        \n0       137106       137106  137106     137106",
      "text/html": "<div>\n<style scoped>\n    .dataframe tbody tr th:only-of-type {\n        vertical-align: middle;\n    }\n\n    .dataframe tbody tr th {\n        vertical-align: top;\n    }\n\n    .dataframe thead th {\n        text-align: right;\n    }\n</style>\n<table border=\"1\" class=\"dataframe\">\n  <thead>\n    <tr style=\"text-align: right;\">\n      <th></th>\n      <th>Age</th>\n      <th>Impressions</th>\n      <th>Clicks</th>\n      <th>Signed_In</th>\n    </tr>\n    <tr>\n      <th>Gender</th>\n      <th></th>\n      <th></th>\n      <th></th>\n      <th></th>\n    </tr>\n  </thead>\n  <tbody>\n    <tr>\n      <th>0</th>\n      <td>137106</td>\n      <td>137106</td>\n      <td>137106</td>\n      <td>137106</td>\n    </tr>\n  </tbody>\n</table>\n</div>"
     },
     "execution_count": 4,
     "metadata": {},
     "output_type": "execute_result"
    }
   ],
   "source": [
    "data[data.Age == 0].groupby(\"Gender\").count()"
   ],
   "metadata": {
    "collapsed": false,
    "pycharm": {
     "name": "#%%\n"
    }
   }
  },
  {
   "cell_type": "code",
   "execution_count": 5,
   "outputs": [
    {
     "data": {
      "text/plain": "           Age  Impressions  Clicks  Signed_In\nGender                                        \n0       153070       153070  153070     153070\n1       168265       168265  168265     168265",
      "text/html": "<div>\n<style scoped>\n    .dataframe tbody tr th:only-of-type {\n        vertical-align: middle;\n    }\n\n    .dataframe tbody tr th {\n        vertical-align: top;\n    }\n\n    .dataframe thead th {\n        text-align: right;\n    }\n</style>\n<table border=\"1\" class=\"dataframe\">\n  <thead>\n    <tr style=\"text-align: right;\">\n      <th></th>\n      <th>Age</th>\n      <th>Impressions</th>\n      <th>Clicks</th>\n      <th>Signed_In</th>\n    </tr>\n    <tr>\n      <th>Gender</th>\n      <th></th>\n      <th></th>\n      <th></th>\n      <th></th>\n    </tr>\n  </thead>\n  <tbody>\n    <tr>\n      <th>0</th>\n      <td>153070</td>\n      <td>153070</td>\n      <td>153070</td>\n      <td>153070</td>\n    </tr>\n    <tr>\n      <th>1</th>\n      <td>168265</td>\n      <td>168265</td>\n      <td>168265</td>\n      <td>168265</td>\n    </tr>\n  </tbody>\n</table>\n</div>"
     },
     "execution_count": 5,
     "metadata": {},
     "output_type": "execute_result"
    }
   ],
   "source": [
    "data[data.Age>0].groupby(\"Gender\").count()"
   ],
   "metadata": {
    "collapsed": false,
    "pycharm": {
     "name": "#%%\n"
    }
   }
  },
  {
   "cell_type": "code",
   "execution_count": 6,
   "outputs": [
    {
     "data": {
      "text/plain": "     Gender  Impressions  Clicks  Signed_In\nAge                                        \n7         5            5       5          5\n8        15           15      15         15\n9        48           48      48         48\n10      113          113     113        113\n11      283          283     283        283\n..      ...          ...     ...        ...\n102       2            2       2          2\n103       2            2       2          2\n104       1            1       1          1\n107       2            2       2          2\n108       1            1       1          1\n\n[100 rows x 4 columns]",
      "text/html": "<div>\n<style scoped>\n    .dataframe tbody tr th:only-of-type {\n        vertical-align: middle;\n    }\n\n    .dataframe tbody tr th {\n        vertical-align: top;\n    }\n\n    .dataframe thead th {\n        text-align: right;\n    }\n</style>\n<table border=\"1\" class=\"dataframe\">\n  <thead>\n    <tr style=\"text-align: right;\">\n      <th></th>\n      <th>Gender</th>\n      <th>Impressions</th>\n      <th>Clicks</th>\n      <th>Signed_In</th>\n    </tr>\n    <tr>\n      <th>Age</th>\n      <th></th>\n      <th></th>\n      <th></th>\n      <th></th>\n    </tr>\n  </thead>\n  <tbody>\n    <tr>\n      <th>7</th>\n      <td>5</td>\n      <td>5</td>\n      <td>5</td>\n      <td>5</td>\n    </tr>\n    <tr>\n      <th>8</th>\n      <td>15</td>\n      <td>15</td>\n      <td>15</td>\n      <td>15</td>\n    </tr>\n    <tr>\n      <th>9</th>\n      <td>48</td>\n      <td>48</td>\n      <td>48</td>\n      <td>48</td>\n    </tr>\n    <tr>\n      <th>10</th>\n      <td>113</td>\n      <td>113</td>\n      <td>113</td>\n      <td>113</td>\n    </tr>\n    <tr>\n      <th>11</th>\n      <td>283</td>\n      <td>283</td>\n      <td>283</td>\n      <td>283</td>\n    </tr>\n    <tr>\n      <th>...</th>\n      <td>...</td>\n      <td>...</td>\n      <td>...</td>\n      <td>...</td>\n    </tr>\n    <tr>\n      <th>102</th>\n      <td>2</td>\n      <td>2</td>\n      <td>2</td>\n      <td>2</td>\n    </tr>\n    <tr>\n      <th>103</th>\n      <td>2</td>\n      <td>2</td>\n      <td>2</td>\n      <td>2</td>\n    </tr>\n    <tr>\n      <th>104</th>\n      <td>1</td>\n      <td>1</td>\n      <td>1</td>\n      <td>1</td>\n    </tr>\n    <tr>\n      <th>107</th>\n      <td>2</td>\n      <td>2</td>\n      <td>2</td>\n      <td>2</td>\n    </tr>\n    <tr>\n      <th>108</th>\n      <td>1</td>\n      <td>1</td>\n      <td>1</td>\n      <td>1</td>\n    </tr>\n  </tbody>\n</table>\n<p>100 rows × 4 columns</p>\n</div>"
     },
     "execution_count": 6,
     "metadata": {},
     "output_type": "execute_result"
    }
   ],
   "source": [
    "data_no_null_age = data[data.Age > 0]\n",
    "data_no_null_age.groupby(\"Age\").count()"
   ],
   "metadata": {
    "collapsed": false,
    "pycharm": {
     "name": "#%%\n"
    }
   }
  },
  {
   "cell_type": "code",
   "execution_count": 7,
   "outputs": [
    {
     "data": {
      "text/plain": "<matplotlib.axes._subplots.AxesSubplot at 0x196f1399580>"
     },
     "execution_count": 7,
     "metadata": {},
     "output_type": "execute_result"
    },
    {
     "data": {
      "text/plain": "<Figure size 432x288 with 1 Axes>",
      "image/png": "[encoded data removed]"
     },
     "metadata": {
      "needs_background": "light"
     },
     "output_type": "display_data"
    }
   ],
   "source": [
    "data_no_null_age.Age.hist()"
   ],
   "metadata": {
    "collapsed": false,
    "pycharm": {
     "name": "#%%\n"
    }
   }
  },
  {
   "cell_type": "code",
   "execution_count": 8,
   "outputs": [
    {
     "name": "stderr",
     "output_type": "stream",
     "text": [
      "<ipython-input-8-9802b2fc131e>:20: SettingWithCopyWarning: \n",
      "A value is trying to be set on a copy of a slice from a DataFrame.\n",
      "Try using .loc[row_indexer,col_indexer] = value instead\n",
      "\n",
      "See the caveats in the documentation: https://pandas.pydata.org/pandas-docs/stable/user_guide/indexing.html#returning-a-view-versus-a-copy\n",
      "  age_group['AgeGroup'] = age_group.Age.apply(lambda row: ageGroups(row))\n"
     ]
    },
    {
     "data": {
      "text/plain": "        Age  Gender  Impressions  Clicks  Signed_In AgeGroup\n0        36       0            3       0          1    35-44\n1        73       1            3       0          1      65+\n2        30       0            3       0          1    25-34\n3        49       1            3       0          1    45-54\n4        47       1           11       0          1    45-54\n...     ...     ...          ...     ...        ...      ...\n458432   30       0            4       0          1    25-34\n458433   21       1            2       0          1    18-24\n458434   61       1            6       0          1    55-64\n458435   51       0            7       0          1    45-54\n458438   72       1            5       0          1      65+\n\n[321335 rows x 6 columns]",
      "text/html": "<div>\n<style scoped>\n    .dataframe tbody tr th:only-of-type {\n        vertical-align: middle;\n    }\n\n    .dataframe tbody tr th {\n        vertical-align: top;\n    }\n\n    .dataframe thead th {\n        text-align: right;\n    }\n</style>\n<table border=\"1\" class=\"dataframe\">\n  <thead>\n    <tr style=\"text-align: right;\">\n      <th></th>\n      <th>Age</th>\n      <th>Gender</th>\n      <th>Impressions</th>\n      <th>Clicks</th>\n      <th>Signed_In</th>\n      <th>AgeGroup</th>\n    </tr>\n  </thead>\n  <tbody>\n    <tr>\n      <th>0</th>\n      <td>36</td>\n      <td>0</td>\n      <td>3</td>\n      <td>0</td>\n      <td>1</td>\n      <td>35-44</td>\n    </tr>\n    <tr>\n      <th>1</th>\n      <td>73</td>\n      <td>1</td>\n      <td>3</td>\n      <td>0</td>\n      <td>1</td>\n      <td>65+</td>\n    </tr>\n    <tr>\n      <th>2</th>\n      <td>30</td>\n      <td>0</td>\n      <td>3</td>\n      <td>0</td>\n      <td>1</td>\n      <td>25-34</td>\n    </tr>\n    <tr>\n      <th>3</th>\n      <td>49</td>\n      <td>1</td>\n      <td>3</td>\n      <td>0</td>\n      <td>1</td>\n      <td>45-54</td>\n    </tr>\n    <tr>\n      <th>4</th>\n      <td>47</td>\n      <td>1</td>\n      <td>11</td>\n      <td>0</td>\n      <td>1</td>\n      <td>45-54</td>\n    </tr>\n    <tr>\n      <th>...</th>\n      <td>...</td>\n      <td>...</td>\n      <td>...</td>\n      <td>...</td>\n      <td>...</td>\n      <td>...</td>\n    </tr>\n    <tr>\n      <th>458432</th>\n      <td>30</td>\n      <td>0</td>\n      <td>4</td>\n      <td>0</td>\n      <td>1</td>\n      <td>25-34</td>\n    </tr>\n    <tr>\n      <th>458433</th>\n      <td>21</td>\n      <td>1</td>\n      <td>2</td>\n      <td>0</td>\n      <td>1</td>\n      <td>18-24</td>\n    </tr>\n    <tr>\n      <th>458434</th>\n      <td>61</td>\n      <td>1</td>\n      <td>6</td>\n      <td>0</td>\n      <td>1</td>\n      <td>55-64</td>\n    </tr>\n    <tr>\n      <th>458435</th>\n      <td>51</td>\n      <td>0</td>\n      <td>7</td>\n      <td>0</td>\n      <td>1</td>\n      <td>45-54</td>\n    </tr>\n    <tr>\n      <th>458438</th>\n      <td>72</td>\n      <td>1</td>\n      <td>5</td>\n      <td>0</td>\n      <td>1</td>\n      <td>65+</td>\n    </tr>\n  </tbody>\n</table>\n<p>321335 rows × 6 columns</p>\n</div>"
     },
     "execution_count": 8,
     "metadata": {},
     "output_type": "execute_result"
    }
   ],
   "source": [
    "#Task1\n",
    "\n",
    "def ageGroups(age):\n",
    "    if age < 18:\n",
    "        return \"1-17\"\n",
    "    elif 18 <= age < 25:\n",
    "        return \"18-24\"\n",
    "    elif 25 <= age < 35:\n",
    "        return \"25-34\"\n",
    "    elif 35 <= age < 45:\n",
    "        return \"35-44\"\n",
    "    elif 45 <= age < 55:\n",
    "        return \"45-54\"\n",
    "    elif 55 <= age < 65:\n",
    "        return \"55-64\"\n",
    "    elif age >= 64:\n",
    "        return \"65+\"\n",
    "\n",
    "age_group = data_no_null_age\n",
    "age_group['AgeGroup'] = age_group.Age.apply(lambda row: ageGroups(row))\n",
    "age_group"
   ],
   "metadata": {
    "collapsed": false,
    "pycharm": {
     "name": "#%%\n"
    }
   }
  },
  {
   "cell_type": "code",
   "execution_count": 9,
   "outputs": [
    {
     "data": {
      "text/plain": "        Age  Gender  Impressions  Clicks  Signed_In AgeGroup\n11       21       0            3       0          1    18-24\n25       19       1            4       0          1    18-24\n26       19       0            3       0          1    18-24\n29       21       1            5       0          1    18-24\n30       23       0            4       0          1    18-24\n...     ...     ...          ...     ...        ...      ...\n458414   21       0            5       0          1    18-24\n458423   22       1            8       0          1    18-24\n458424   21       0           10       0          1    18-24\n458431   21       1            5       0          1    18-24\n458433   21       1            2       0          1    18-24\n\n[40694 rows x 6 columns]",
      "text/html": "<div>\n<style scoped>\n    .dataframe tbody tr th:only-of-type {\n        vertical-align: middle;\n    }\n\n    .dataframe tbody tr th {\n        vertical-align: top;\n    }\n\n    .dataframe thead th {\n        text-align: right;\n    }\n</style>\n<table border=\"1\" class=\"dataframe\">\n  <thead>\n    <tr style=\"text-align: right;\">\n      <th></th>\n      <th>Age</th>\n      <th>Gender</th>\n      <th>Impressions</th>\n      <th>Clicks</th>\n      <th>Signed_In</th>\n      <th>AgeGroup</th>\n    </tr>\n  </thead>\n  <tbody>\n    <tr>\n      <th>11</th>\n      <td>21</td>\n      <td>0</td>\n      <td>3</td>\n      <td>0</td>\n      <td>1</td>\n      <td>18-24</td>\n    </tr>\n    <tr>\n      <th>25</th>\n      <td>19</td>\n      <td>1</td>\n      <td>4</td>\n      <td>0</td>\n      <td>1</td>\n      <td>18-24</td>\n    </tr>\n    <tr>\n      <th>26</th>\n      <td>19</td>\n      <td>0</td>\n      <td>3</td>\n      <td>0</td>\n      <td>1</td>\n      <td>18-24</td>\n    </tr>\n    <tr>\n      <th>29</th>\n      <td>21</td>\n      <td>1</td>\n      <td>5</td>\n      <td>0</td>\n      <td>1</td>\n      <td>18-24</td>\n    </tr>\n    <tr>\n      <th>30</th>\n      <td>23</td>\n      <td>0</td>\n      <td>4</td>\n      <td>0</td>\n      <td>1</td>\n      <td>18-24</td>\n    </tr>\n    <tr>\n      <th>...</th>\n      <td>...</td>\n      <td>...</td>\n      <td>...</td>\n      <td>...</td>\n      <td>...</td>\n      <td>...</td>\n    </tr>\n    <tr>\n      <th>458414</th>\n      <td>21</td>\n      <td>0</td>\n      <td>5</td>\n      <td>0</td>\n      <td>1</td>\n      <td>18-24</td>\n    </tr>\n    <tr>\n      <th>458423</th>\n      <td>22</td>\n      <td>1</td>\n      <td>8</td>\n      <td>0</td>\n      <td>1</td>\n      <td>18-24</td>\n    </tr>\n    <tr>\n      <th>458424</th>\n      <td>21</td>\n      <td>0</td>\n      <td>10</td>\n      <td>0</td>\n      <td>1</td>\n      <td>18-24</td>\n    </tr>\n    <tr>\n      <th>458431</th>\n      <td>21</td>\n      <td>1</td>\n      <td>5</td>\n      <td>0</td>\n      <td>1</td>\n      <td>18-24</td>\n    </tr>\n    <tr>\n      <th>458433</th>\n      <td>21</td>\n      <td>1</td>\n      <td>2</td>\n      <td>0</td>\n      <td>1</td>\n      <td>18-24</td>\n    </tr>\n  </tbody>\n</table>\n<p>40694 rows × 6 columns</p>\n</div>"
     },
     "execution_count": 9,
     "metadata": {},
     "output_type": "execute_result"
    }
   ],
   "source": [
    "age_group[age_group.AgeGroup == \"18-24\"]"
   ],
   "metadata": {
    "collapsed": false,
    "pycharm": {
     "name": "#%%\n"
    }
   }
  },
  {
   "cell_type": "code",
   "execution_count": 10,
   "outputs": [
    {
     "data": {
      "text/plain": "              Age  Gender  Impressions  Clicks  Signed_In\nAgeGroup                                                 \n1-17       211045    9470        69239    2065      13828\n18-24      847791   21721       203585    2167      40694\n25-34     1716328   30958       290511    2937      58174\n35-44     2798593   37676       355824    3662      70860\n45-54     3181779   34007       322109    3232      64288\n55-64     2661830   23988       224688    4556      44738\n65+       2098644   10445       144120    4350      28753",
      "text/html": "<div>\n<style scoped>\n    .dataframe tbody tr th:only-of-type {\n        vertical-align: middle;\n    }\n\n    .dataframe tbody tr th {\n        vertical-align: top;\n    }\n\n    .dataframe thead th {\n        text-align: right;\n    }\n</style>\n<table border=\"1\" class=\"dataframe\">\n  <thead>\n    <tr style=\"text-align: right;\">\n      <th></th>\n      <th>Age</th>\n      <th>Gender</th>\n      <th>Impressions</th>\n      <th>Clicks</th>\n      <th>Signed_In</th>\n    </tr>\n    <tr>\n      <th>AgeGroup</th>\n      <th></th>\n      <th></th>\n      <th></th>\n      <th></th>\n      <th></th>\n    </tr>\n  </thead>\n  <tbody>\n    <tr>\n      <th>1-17</th>\n      <td>211045</td>\n      <td>9470</td>\n      <td>69239</td>\n      <td>2065</td>\n      <td>13828</td>\n    </tr>\n    <tr>\n      <th>18-24</th>\n      <td>847791</td>\n      <td>21721</td>\n      <td>203585</td>\n      <td>2167</td>\n      <td>40694</td>\n    </tr>\n    <tr>\n      <th>25-34</th>\n      <td>1716328</td>\n      <td>30958</td>\n      <td>290511</td>\n      <td>2937</td>\n      <td>58174</td>\n    </tr>\n    <tr>\n      <th>35-44</th>\n      <td>2798593</td>\n      <td>37676</td>\n      <td>355824</td>\n      <td>3662</td>\n      <td>70860</td>\n    </tr>\n    <tr>\n      <th>45-54</th>\n      <td>3181779</td>\n      <td>34007</td>\n      <td>322109</td>\n      <td>3232</td>\n      <td>64288</td>\n    </tr>\n    <tr>\n      <th>55-64</th>\n      <td>2661830</td>\n      <td>23988</td>\n      <td>224688</td>\n      <td>4556</td>\n      <td>44738</td>\n    </tr>\n    <tr>\n      <th>65+</th>\n      <td>2098644</td>\n      <td>10445</td>\n      <td>144120</td>\n      <td>4350</td>\n      <td>28753</td>\n    </tr>\n  </tbody>\n</table>\n</div>"
     },
     "execution_count": 10,
     "metadata": {},
     "output_type": "execute_result"
    }
   ],
   "source": [
    "age_group.groupby(\"AgeGroup\").sum()"
   ],
   "metadata": {
    "collapsed": false,
    "pycharm": {
     "name": "#%%\n"
    }
   }
  },
  {
   "cell_type": "code",
   "execution_count": 11,
   "outputs": [
    {
     "data": {
      "text/plain": "                     Age  Impressions  Clicks  Signed_In\nAgeGroup Gender                                         \n1-17     0         66443        21800     683       4358\n         1        144602        47439    1382       9470\n18-24    0        395265        95057    1002      18973\n         1        452526       108528    1165      21721\n25-34    0        802877       136292    1388      27216\n         1        913451       154219    1549      30958\n35-44    0       1310798       166324    1707      33184\n         1       1487795       189500    1955      37676\n45-54    0       1498737       151650    1542      30281\n         1       1683042       170459    1690      34007\n55-64    0       1235139       104220    2105      20750\n         1       1426691       120468    2451      23988\n65+      0       1337551        91956    2765      18308\n         1        761093        52164    1585      10445",
      "text/html": "<div>\n<style scoped>\n    .dataframe tbody tr th:only-of-type {\n        vertical-align: middle;\n    }\n\n    .dataframe tbody tr th {\n        vertical-align: top;\n    }\n\n    .dataframe thead th {\n        text-align: right;\n    }\n</style>\n<table border=\"1\" class=\"dataframe\">\n  <thead>\n    <tr style=\"text-align: right;\">\n      <th></th>\n      <th></th>\n      <th>Age</th>\n      <th>Impressions</th>\n      <th>Clicks</th>\n      <th>Signed_In</th>\n    </tr>\n    <tr>\n      <th>AgeGroup</th>\n      <th>Gender</th>\n      <th></th>\n      <th></th>\n      <th></th>\n      <th></th>\n    </tr>\n  </thead>\n  <tbody>\n    <tr>\n      <th rowspan=\"2\" valign=\"top\">1-17</th>\n      <th>0</th>\n      <td>66443</td>\n      <td>21800</td>\n      <td>683</td>\n      <td>4358</td>\n    </tr>\n    <tr>\n      <th>1</th>\n      <td>144602</td>\n      <td>47439</td>\n      <td>1382</td>\n      <td>9470</td>\n    </tr>\n    <tr>\n      <th rowspan=\"2\" valign=\"top\">18-24</th>\n      <th>0</th>\n      <td>395265</td>\n      <td>95057</td>\n      <td>1002</td>\n      <td>18973</td>\n    </tr>\n    <tr>\n      <th>1</th>\n      <td>452526</td>\n      <td>108528</td>\n      <td>1165</td>\n      <td>21721</td>\n    </tr>\n    <tr>\n      <th rowspan=\"2\" valign=\"top\">25-34</th>\n      <th>0</th>\n      <td>802877</td>\n      <td>136292</td>\n      <td>1388</td>\n      <td>27216</td>\n    </tr>\n    <tr>\n      <th>1</th>\n      <td>913451</td>\n      <td>154219</td>\n      <td>1549</td>\n      <td>30958</td>\n    </tr>\n    <tr>\n      <th rowspan=\"2\" valign=\"top\">35-44</th>\n      <th>0</th>\n      <td>1310798</td>\n      <td>166324</td>\n      <td>1707</td>\n      <td>33184</td>\n    </tr>\n    <tr>\n      <th>1</th>\n      <td>1487795</td>\n      <td>189500</td>\n      <td>1955</td>\n      <td>37676</td>\n    </tr>\n    <tr>\n      <th rowspan=\"2\" valign=\"top\">45-54</th>\n      <th>0</th>\n      <td>1498737</td>\n      <td>151650</td>\n      <td>1542</td>\n      <td>30281</td>\n    </tr>\n    <tr>\n      <th>1</th>\n      <td>1683042</td>\n      <td>170459</td>\n      <td>1690</td>\n      <td>34007</td>\n    </tr>\n    <tr>\n      <th rowspan=\"2\" valign=\"top\">55-64</th>\n      <th>0</th>\n      <td>1235139</td>\n      <td>104220</td>\n      <td>2105</td>\n      <td>20750</td>\n    </tr>\n    <tr>\n      <th>1</th>\n      <td>1426691</td>\n      <td>120468</td>\n      <td>2451</td>\n      <td>23988</td>\n    </tr>\n    <tr>\n      <th rowspan=\"2\" valign=\"top\">65+</th>\n      <th>0</th>\n      <td>1337551</td>\n      <td>91956</td>\n      <td>2765</td>\n      <td>18308</td>\n    </tr>\n    <tr>\n      <th>1</th>\n      <td>761093</td>\n      <td>52164</td>\n      <td>1585</td>\n      <td>10445</td>\n    </tr>\n  </tbody>\n</table>\n</div>"
     },
     "execution_count": 11,
     "metadata": {},
     "output_type": "execute_result"
    }
   ],
   "source": [
    "age_group.groupby([\"AgeGroup\", \"Gender\"]).sum()"
   ],
   "metadata": {
    "collapsed": false,
    "pycharm": {
     "name": "#%%\n"
    }
   }
  },
  {
   "cell_type": "code",
   "execution_count": 12,
   "outputs": [
    {
     "data": {
      "text/plain": "              Age  Gender  Impressions  Clicks  Signed_In       CTR\nAgeGroup                                                           \n1-17       211045    9470        69239    2065      13828  0.029824\n18-24      847791   21721       203585    2167      40694  0.010644\n25-34     1716328   30958       290511    2937      58174  0.010110\n35-44     2798593   37676       355824    3662      70860  0.010292\n45-54     3181779   34007       322109    3232      64288  0.010034\n55-64     2661830   23988       224688    4556      44738  0.020277\n65+       2098644   10445       144120    4350      28753  0.030183",
      "text/html": "<div>\n<style scoped>\n    .dataframe tbody tr th:only-of-type {\n        vertical-align: middle;\n    }\n\n    .dataframe tbody tr th {\n        vertical-align: top;\n    }\n\n    .dataframe thead th {\n        text-align: right;\n    }\n</style>\n<table border=\"1\" class=\"dataframe\">\n  <thead>\n    <tr style=\"text-align: right;\">\n      <th></th>\n      <th>Age</th>\n      <th>Gender</th>\n      <th>Impressions</th>\n      <th>Clicks</th>\n      <th>Signed_In</th>\n      <th>CTR</th>\n    </tr>\n    <tr>\n      <th>AgeGroup</th>\n      <th></th>\n      <th></th>\n      <th></th>\n      <th></th>\n      <th></th>\n      <th></th>\n    </tr>\n  </thead>\n  <tbody>\n    <tr>\n      <th>1-17</th>\n      <td>211045</td>\n      <td>9470</td>\n      <td>69239</td>\n      <td>2065</td>\n      <td>13828</td>\n      <td>0.029824</td>\n    </tr>\n    <tr>\n      <th>18-24</th>\n      <td>847791</td>\n      <td>21721</td>\n      <td>203585</td>\n      <td>2167</td>\n      <td>40694</td>\n      <td>0.010644</td>\n    </tr>\n    <tr>\n      <th>25-34</th>\n      <td>1716328</td>\n      <td>30958</td>\n      <td>290511</td>\n      <td>2937</td>\n      <td>58174</td>\n      <td>0.010110</td>\n    </tr>\n    <tr>\n      <th>35-44</th>\n      <td>2798593</td>\n      <td>37676</td>\n      <td>355824</td>\n      <td>3662</td>\n      <td>70860</td>\n      <td>0.010292</td>\n    </tr>\n    <tr>\n      <th>45-54</th>\n      <td>3181779</td>\n      <td>34007</td>\n      <td>322109</td>\n      <td>3232</td>\n      <td>64288</td>\n      <td>0.010034</td>\n    </tr>\n    <tr>\n      <th>55-64</th>\n      <td>2661830</td>\n      <td>23988</td>\n      <td>224688</td>\n      <td>4556</td>\n      <td>44738</td>\n      <td>0.020277</td>\n    </tr>\n    <tr>\n      <th>65+</th>\n      <td>2098644</td>\n      <td>10445</td>\n      <td>144120</td>\n      <td>4350</td>\n      <td>28753</td>\n      <td>0.030183</td>\n    </tr>\n  </tbody>\n</table>\n</div>"
     },
     "execution_count": 12,
     "metadata": {},
     "output_type": "execute_result"
    }
   ],
   "source": [
    "#Task2\n",
    "data_by_group = age_group.groupby('AgeGroup').sum()\n",
    "data_by_group[\"CTR\"] = data_by_group.Clicks/data_by_group.Impressions\n",
    "data_by_group\n"
   ],
   "metadata": {
    "collapsed": false,
    "pycharm": {
     "name": "#%%\n"
    }
   }
  },
  {
   "cell_type": "code",
   "execution_count": 13,
   "outputs": [
    {
     "data": {
      "text/plain": "<matplotlib.axes._subplots.AxesSubplot at 0x196f1d33d30>"
     },
     "execution_count": 13,
     "metadata": {},
     "output_type": "execute_result"
    },
    {
     "data": {
      "text/plain": "<Figure size 432x288 with 1 Axes>",
      "image/png": "[encoded data removed]"
     },
     "metadata": {
      "needs_background": "light"
     },
     "output_type": "display_data"
    }
   ],
   "source": [
    "data_by_group.CTR.plot(kind = \"bar\")"
   ],
   "metadata": {
    "collapsed": false,
    "pycharm": {
     "name": "#%%\n"
    }
   }
  },
  {
   "cell_type": "code",
   "execution_count": 14,
   "outputs": [
    {
     "name": "stderr",
     "output_type": "stream",
     "text": [
      "<ipython-input-14-1fb10a6dd034>:7: SettingWithCopyWarning: \n",
      "A value is trying to be set on a copy of a slice from a DataFrame.\n",
      "Try using .loc[row_indexer,col_indexer] = value instead\n",
      "\n",
      "See the caveats in the documentation: https://pandas.pydata.org/pandas-docs/stable/user_guide/indexing.html#returning-a-view-versus-a-copy\n",
      "  data_no_null_age[\"Gender\"] = data_no_null_age.Gender.apply(lambda x : gender_classify(x))\n"
     ]
    },
    {
     "data": {
      "text/plain": "        Age  Gender  Impressions  Clicks  Signed_In AgeGroup\n0        36    Male            3       0          1    35-44\n1        73  Female            3       0          1      65+\n2        30    Male            3       0          1    25-34\n3        49  Female            3       0          1    45-54\n4        47  Female           11       0          1    45-54\n...     ...     ...          ...     ...        ...      ...\n458432   30    Male            4       0          1    25-34\n458433   21  Female            2       0          1    18-24\n458434   61  Female            6       0          1    55-64\n458435   51    Male            7       0          1    45-54\n458438   72  Female            5       0          1      65+\n\n[321335 rows x 6 columns]",
      "text/html": "<div>\n<style scoped>\n    .dataframe tbody tr th:only-of-type {\n        vertical-align: middle;\n    }\n\n    .dataframe tbody tr th {\n        vertical-align: top;\n    }\n\n    .dataframe thead th {\n        text-align: right;\n    }\n</style>\n<table border=\"1\" class=\"dataframe\">\n  <thead>\n    <tr style=\"text-align: right;\">\n      <th></th>\n      <th>Age</th>\n      <th>Gender</th>\n      <th>Impressions</th>\n      <th>Clicks</th>\n      <th>Signed_In</th>\n      <th>AgeGroup</th>\n    </tr>\n  </thead>\n  <tbody>\n    <tr>\n      <th>0</th>\n      <td>36</td>\n      <td>Male</td>\n      <td>3</td>\n      <td>0</td>\n      <td>1</td>\n      <td>35-44</td>\n    </tr>\n    <tr>\n      <th>1</th>\n      <td>73</td>\n      <td>Female</td>\n      <td>3</td>\n      <td>0</td>\n      <td>1</td>\n      <td>65+</td>\n    </tr>\n    <tr>\n      <th>2</th>\n      <td>30</td>\n      <td>Male</td>\n      <td>3</td>\n      <td>0</td>\n      <td>1</td>\n      <td>25-34</td>\n    </tr>\n    <tr>\n      <th>3</th>\n      <td>49</td>\n      <td>Female</td>\n      <td>3</td>\n      <td>0</td>\n      <td>1</td>\n      <td>45-54</td>\n    </tr>\n    <tr>\n      <th>4</th>\n      <td>47</td>\n      <td>Female</td>\n      <td>11</td>\n      <td>0</td>\n      <td>1</td>\n      <td>45-54</td>\n    </tr>\n    <tr>\n      <th>...</th>\n      <td>...</td>\n      <td>...</td>\n      <td>...</td>\n      <td>...</td>\n      <td>...</td>\n      <td>...</td>\n    </tr>\n    <tr>\n      <th>458432</th>\n      <td>30</td>\n      <td>Male</td>\n      <td>4</td>\n      <td>0</td>\n      <td>1</td>\n      <td>25-34</td>\n    </tr>\n    <tr>\n      <th>458433</th>\n      <td>21</td>\n      <td>Female</td>\n      <td>2</td>\n      <td>0</td>\n      <td>1</td>\n      <td>18-24</td>\n    </tr>\n    <tr>\n      <th>458434</th>\n      <td>61</td>\n      <td>Female</td>\n      <td>6</td>\n      <td>0</td>\n      <td>1</td>\n      <td>55-64</td>\n    </tr>\n    <tr>\n      <th>458435</th>\n      <td>51</td>\n      <td>Male</td>\n      <td>7</td>\n      <td>0</td>\n      <td>1</td>\n      <td>45-54</td>\n    </tr>\n    <tr>\n      <th>458438</th>\n      <td>72</td>\n      <td>Female</td>\n      <td>5</td>\n      <td>0</td>\n      <td>1</td>\n      <td>65+</td>\n    </tr>\n  </tbody>\n</table>\n<p>321335 rows × 6 columns</p>\n</div>"
     },
     "execution_count": 14,
     "metadata": {},
     "output_type": "execute_result"
    }
   ],
   "source": [
    "def gender_classify(Gender):\n",
    "    if Gender == 0:\n",
    "        return \"Male\"\n",
    "    elif Gender == 1:\n",
    "        return \"Female\"\n",
    "\n",
    "data_no_null_age[\"Gender\"] = data_no_null_age.Gender.apply(lambda x : gender_classify(x))\n",
    "data_no_null_age"
   ],
   "metadata": {
    "collapsed": false,
    "pycharm": {
     "name": "#%%\n"
    }
   }
  },
  {
   "cell_type": "code",
   "execution_count": 15,
   "outputs": [
    {
     "data": {
      "text/plain": "        Age  Gender  Impressions  Clicks  Signed_In AgeGroup\n73750    19    Male           12       0          1    18-24\n247489   19  Female            3       0          1    18-24\n376985   19  Female            5       0          1    18-24\n178097   19    Male            4       0          1    18-24\n108947   19  Female            4       0          1    18-24\n...     ...     ...          ...     ...        ...      ...\n195508  103    Male            4       0          1      65+\n436709  104  Female            6       1          1      65+\n217137  107  Female            4       0          1      65+\n347859  107  Female            5       1          1      65+\n369076  108    Male            3       0          1      65+\n\n[302083 rows x 6 columns]",
      "text/html": "<div>\n<style scoped>\n    .dataframe tbody tr th:only-of-type {\n        vertical-align: middle;\n    }\n\n    .dataframe tbody tr th {\n        vertical-align: top;\n    }\n\n    .dataframe thead th {\n        text-align: right;\n    }\n</style>\n<table border=\"1\" class=\"dataframe\">\n  <thead>\n    <tr style=\"text-align: right;\">\n      <th></th>\n      <th>Age</th>\n      <th>Gender</th>\n      <th>Impressions</th>\n      <th>Clicks</th>\n      <th>Signed_In</th>\n      <th>AgeGroup</th>\n    </tr>\n  </thead>\n  <tbody>\n    <tr>\n      <th>73750</th>\n      <td>19</td>\n      <td>Male</td>\n      <td>12</td>\n      <td>0</td>\n      <td>1</td>\n      <td>18-24</td>\n    </tr>\n    <tr>\n      <th>247489</th>\n      <td>19</td>\n      <td>Female</td>\n      <td>3</td>\n      <td>0</td>\n      <td>1</td>\n      <td>18-24</td>\n    </tr>\n    <tr>\n      <th>376985</th>\n      <td>19</td>\n      <td>Female</td>\n      <td>5</td>\n      <td>0</td>\n      <td>1</td>\n      <td>18-24</td>\n    </tr>\n    <tr>\n      <th>178097</th>\n      <td>19</td>\n      <td>Male</td>\n      <td>4</td>\n      <td>0</td>\n      <td>1</td>\n      <td>18-24</td>\n    </tr>\n    <tr>\n      <th>108947</th>\n      <td>19</td>\n      <td>Female</td>\n      <td>4</td>\n      <td>0</td>\n      <td>1</td>\n      <td>18-24</td>\n    </tr>\n    <tr>\n      <th>...</th>\n      <td>...</td>\n      <td>...</td>\n      <td>...</td>\n      <td>...</td>\n      <td>...</td>\n      <td>...</td>\n    </tr>\n    <tr>\n      <th>195508</th>\n      <td>103</td>\n      <td>Male</td>\n      <td>4</td>\n      <td>0</td>\n      <td>1</td>\n      <td>65+</td>\n    </tr>\n    <tr>\n      <th>436709</th>\n      <td>104</td>\n      <td>Female</td>\n      <td>6</td>\n      <td>1</td>\n      <td>1</td>\n      <td>65+</td>\n    </tr>\n    <tr>\n      <th>217137</th>\n      <td>107</td>\n      <td>Female</td>\n      <td>4</td>\n      <td>0</td>\n      <td>1</td>\n      <td>65+</td>\n    </tr>\n    <tr>\n      <th>347859</th>\n      <td>107</td>\n      <td>Female</td>\n      <td>5</td>\n      <td>1</td>\n      <td>1</td>\n      <td>65+</td>\n    </tr>\n    <tr>\n      <th>369076</th>\n      <td>108</td>\n      <td>Male</td>\n      <td>3</td>\n      <td>0</td>\n      <td>1</td>\n      <td>65+</td>\n    </tr>\n  </tbody>\n</table>\n<p>302083 rows × 6 columns</p>\n</div>"
     },
     "execution_count": 15,
     "metadata": {},
     "output_type": "execute_result"
    }
   ],
   "source": [
    "data_from_18 = data_no_null_age[data_no_null_age.Age > 18]\n",
    "data_from_18.sort_values('Age')"
   ],
   "metadata": {
    "collapsed": false,
    "pycharm": {
     "name": "#%%\n"
    }
   }
  },
  {
   "cell_type": "code",
   "execution_count": 16,
   "outputs": [
    {
     "data": {
      "text/plain": "              Age  Impressions    Clicks\nGender                                  \nFemale  42.799318     5.009653  0.065053\nMale    44.703728     5.013107  0.070488",
      "text/html": "<div>\n<style scoped>\n    .dataframe tbody tr th:only-of-type {\n        vertical-align: middle;\n    }\n\n    .dataframe tbody tr th {\n        vertical-align: top;\n    }\n\n    .dataframe thead th {\n        text-align: right;\n    }\n</style>\n<table border=\"1\" class=\"dataframe\">\n  <thead>\n    <tr style=\"text-align: right;\">\n      <th></th>\n      <th>Age</th>\n      <th>Impressions</th>\n      <th>Clicks</th>\n    </tr>\n    <tr>\n      <th>Gender</th>\n      <th></th>\n      <th></th>\n      <th></th>\n    </tr>\n  </thead>\n  <tbody>\n    <tr>\n      <th>Female</th>\n      <td>42.799318</td>\n      <td>5.009653</td>\n      <td>0.065053</td>\n    </tr>\n    <tr>\n      <th>Male</th>\n      <td>44.703728</td>\n      <td>5.013107</td>\n      <td>0.070488</td>\n    </tr>\n  </tbody>\n</table>\n</div>"
     },
     "execution_count": 16,
     "metadata": {},
     "output_type": "execute_result"
    }
   ],
   "source": [
    "data_from_18.groupby(\"Gender\").mean().drop(columns=\"Signed_In\")"
   ],
   "metadata": {
    "collapsed": false,
    "pycharm": {
     "name": "#%%\n"
    }
   }
  },
  {
   "cell_type": "code",
   "execution_count": 17,
   "outputs": [
    {
     "name": "stderr",
     "output_type": "stream",
     "text": [
      "<ipython-input-17-7799c2b79745>:1: SettingWithCopyWarning: \n",
      "A value is trying to be set on a copy of a slice from a DataFrame.\n",
      "Try using .loc[row_indexer,col_indexer] = value instead\n",
      "\n",
      "See the caveats in the documentation: https://pandas.pydata.org/pandas-docs/stable/user_guide/indexing.html#returning-a-view-versus-a-copy\n",
      "  data_from_18[\"CTR\"] = data_from_18.Clicks / data_from_18.Impressions\n"
     ]
    },
    {
     "data": {
      "text/plain": "        Age  Gender  Impressions  Clicks  Signed_In AgeGroup       CTR\n73750    19    Male           12       0          1    18-24  0.000000\n247489   19  Female            3       0          1    18-24  0.000000\n376985   19  Female            5       0          1    18-24  0.000000\n178097   19    Male            4       0          1    18-24  0.000000\n108947   19  Female            4       0          1    18-24  0.000000\n...     ...     ...          ...     ...        ...      ...       ...\n195508  103    Male            4       0          1      65+  0.000000\n436709  104  Female            6       1          1      65+  0.166667\n217137  107  Female            4       0          1      65+  0.000000\n347859  107  Female            5       1          1      65+  0.200000\n369076  108    Male            3       0          1      65+  0.000000\n\n[302083 rows x 7 columns]",
      "text/html": "<div>\n<style scoped>\n    .dataframe tbody tr th:only-of-type {\n        vertical-align: middle;\n    }\n\n    .dataframe tbody tr th {\n        vertical-align: top;\n    }\n\n    .dataframe thead th {\n        text-align: right;\n    }\n</style>\n<table border=\"1\" class=\"dataframe\">\n  <thead>\n    <tr style=\"text-align: right;\">\n      <th></th>\n      <th>Age</th>\n      <th>Gender</th>\n      <th>Impressions</th>\n      <th>Clicks</th>\n      <th>Signed_In</th>\n      <th>AgeGroup</th>\n      <th>CTR</th>\n    </tr>\n  </thead>\n  <tbody>\n    <tr>\n      <th>73750</th>\n      <td>19</td>\n      <td>Male</td>\n      <td>12</td>\n      <td>0</td>\n      <td>1</td>\n      <td>18-24</td>\n      <td>0.000000</td>\n    </tr>\n    <tr>\n      <th>247489</th>\n      <td>19</td>\n      <td>Female</td>\n      <td>3</td>\n      <td>0</td>\n      <td>1</td>\n      <td>18-24</td>\n      <td>0.000000</td>\n    </tr>\n    <tr>\n      <th>376985</th>\n      <td>19</td>\n      <td>Female</td>\n      <td>5</td>\n      <td>0</td>\n      <td>1</td>\n      <td>18-24</td>\n      <td>0.000000</td>\n    </tr>\n    <tr>\n      <th>178097</th>\n      <td>19</td>\n      <td>Male</td>\n      <td>4</td>\n      <td>0</td>\n      <td>1</td>\n      <td>18-24</td>\n      <td>0.000000</td>\n    </tr>\n    <tr>\n      <th>108947</th>\n      <td>19</td>\n      <td>Female</td>\n      <td>4</td>\n      <td>0</td>\n      <td>1</td>\n      <td>18-24</td>\n      <td>0.000000</td>\n    </tr>\n    <tr>\n      <th>...</th>\n      <td>...</td>\n      <td>...</td>\n      <td>...</td>\n      <td>...</td>\n      <td>...</td>\n      <td>...</td>\n      <td>...</td>\n    </tr>\n    <tr>\n      <th>195508</th>\n      <td>103</td>\n      <td>Male</td>\n      <td>4</td>\n      <td>0</td>\n      <td>1</td>\n      <td>65+</td>\n      <td>0.000000</td>\n    </tr>\n    <tr>\n      <th>436709</th>\n      <td>104</td>\n      <td>Female</td>\n      <td>6</td>\n      <td>1</td>\n      <td>1</td>\n      <td>65+</td>\n      <td>0.166667</td>\n    </tr>\n    <tr>\n      <th>217137</th>\n      <td>107</td>\n      <td>Female</td>\n      <td>4</td>\n      <td>0</td>\n      <td>1</td>\n      <td>65+</td>\n      <td>0.000000</td>\n    </tr>\n    <tr>\n      <th>347859</th>\n      <td>107</td>\n      <td>Female</td>\n      <td>5</td>\n      <td>1</td>\n      <td>1</td>\n      <td>65+</td>\n      <td>0.200000</td>\n    </tr>\n    <tr>\n      <th>369076</th>\n      <td>108</td>\n      <td>Male</td>\n      <td>3</td>\n      <td>0</td>\n      <td>1</td>\n      <td>65+</td>\n      <td>0.000000</td>\n    </tr>\n  </tbody>\n</table>\n<p>302083 rows × 7 columns</p>\n</div>"
     },
     "execution_count": 17,
     "metadata": {},
     "output_type": "execute_result"
    }
   ],
   "source": [
    "data_from_18[\"CTR\"] = data_from_18.Clicks / data_from_18.Impressions\n",
    "data_from_18.sort_values('Age')"
   ],
   "metadata": {
    "collapsed": false,
    "pycharm": {
     "name": "#%%\n"
    }
   }
  },
  {
   "cell_type": "code",
   "source": [
    "data_from_18.groupby(\"AgeGroup\").CTR.mean().plot(kind=\"bar\")"
   ],
   "metadata": {
    "collapsed": false,
    "pycharm": {
     "name": "#%%\n"
    }
   },
   "execution_count": 18,
   "outputs": [
    {
     "data": {
      "text/plain": "<matplotlib.axes._subplots.AxesSubplot at 0x196f1dc3e20>"
     },
     "execution_count": 18,
     "metadata": {},
     "output_type": "execute_result"
    },
    {
     "data": {
      "text/plain": "<Figure size 432x288 with 1 Axes>",
      "image/png": "[encoded data removed]"
     },
     "metadata": {
      "needs_background": "light"
     },
     "output_type": "display_data"
    }
   ]
  },
  {
   "cell_type": "code",
   "execution_count": 19,
   "outputs": [
    {
     "data": {
      "text/plain": "                Age  Impressions mean  Clicks mean       CTR\nAgeGroup                                                    \n18-24     21.269039          5.006635     0.048455  0.009720\n25-34     29.503352          4.993829     0.050486  0.010146\n35-44     39.494680          5.021507     0.051679  0.010286\n45-54     49.492580          5.010406     0.050274  0.009958\n55-64     59.498189          5.022308     0.101837  0.020307\n65+       72.988697          5.012347     0.151289  0.029803",
      "text/html": "<div>\n<style scoped>\n    .dataframe tbody tr th:only-of-type {\n        vertical-align: middle;\n    }\n\n    .dataframe tbody tr th {\n        vertical-align: top;\n    }\n\n    .dataframe thead th {\n        text-align: right;\n    }\n</style>\n<table border=\"1\" class=\"dataframe\">\n  <thead>\n    <tr style=\"text-align: right;\">\n      <th></th>\n      <th>Age</th>\n      <th>Impressions mean</th>\n      <th>Clicks mean</th>\n      <th>CTR</th>\n    </tr>\n    <tr>\n      <th>AgeGroup</th>\n      <th></th>\n      <th></th>\n      <th></th>\n      <th></th>\n    </tr>\n  </thead>\n  <tbody>\n    <tr>\n      <th>18-24</th>\n      <td>21.269039</td>\n      <td>5.006635</td>\n      <td>0.048455</td>\n      <td>0.009720</td>\n    </tr>\n    <tr>\n      <th>25-34</th>\n      <td>29.503352</td>\n      <td>4.993829</td>\n      <td>0.050486</td>\n      <td>0.010146</td>\n    </tr>\n    <tr>\n      <th>35-44</th>\n      <td>39.494680</td>\n      <td>5.021507</td>\n      <td>0.051679</td>\n      <td>0.010286</td>\n    </tr>\n    <tr>\n      <th>45-54</th>\n      <td>49.492580</td>\n      <td>5.010406</td>\n      <td>0.050274</td>\n      <td>0.009958</td>\n    </tr>\n    <tr>\n      <th>55-64</th>\n      <td>59.498189</td>\n      <td>5.022308</td>\n      <td>0.101837</td>\n      <td>0.020307</td>\n    </tr>\n    <tr>\n      <th>65+</th>\n      <td>72.988697</td>\n      <td>5.012347</td>\n      <td>0.151289</td>\n      <td>0.029803</td>\n    </tr>\n  </tbody>\n</table>\n</div>"
     },
     "execution_count": 19,
     "metadata": {},
     "output_type": "execute_result"
    }
   ],
   "source": [
    "result = data_from_18.groupby(\"AgeGroup\").mean().drop(columns=\"Signed_In\")\n",
    "result.rename(columns={\"Impressions\":\"Impressions mean\", \"Clicks\":\"Clicks mean\"}, inplace = True)\n",
    "result"
   ],
   "metadata": {
    "collapsed": false,
    "pycharm": {
     "name": "#%%\n"
    }
   }
  },
  {
   "cell_type": "code",
   "execution_count": 20,
   "outputs": [
    {
     "data": {
      "text/plain": "                Age  Impressions mean  Clicks mean       CTR  CTR_quantile\nAgeGroup                                                                  \n18-24     21.269039          5.006635     0.048455  0.009720      0.000000\n25-34     29.503352          4.993829     0.050486  0.010146      0.000000\n35-44     39.494680          5.021507     0.051679  0.010286      0.090909\n45-54     49.492580          5.010406     0.050274  0.009958      0.000000\n55-64     59.498189          5.022308     0.101837  0.020307      0.166667\n65+       72.988697          5.012347     0.151289  0.029803      0.200000",
      "text/html": "<div>\n<style scoped>\n    .dataframe tbody tr th:only-of-type {\n        vertical-align: middle;\n    }\n\n    .dataframe tbody tr th {\n        vertical-align: top;\n    }\n\n    .dataframe thead th {\n        text-align: right;\n    }\n</style>\n<table border=\"1\" class=\"dataframe\">\n  <thead>\n    <tr style=\"text-align: right;\">\n      <th></th>\n      <th>Age</th>\n      <th>Impressions mean</th>\n      <th>Clicks mean</th>\n      <th>CTR</th>\n      <th>CTR_quantile</th>\n    </tr>\n    <tr>\n      <th>AgeGroup</th>\n      <th></th>\n      <th></th>\n      <th></th>\n      <th></th>\n      <th></th>\n    </tr>\n  </thead>\n  <tbody>\n    <tr>\n      <th>18-24</th>\n      <td>21.269039</td>\n      <td>5.006635</td>\n      <td>0.048455</td>\n      <td>0.009720</td>\n      <td>0.000000</td>\n    </tr>\n    <tr>\n      <th>25-34</th>\n      <td>29.503352</td>\n      <td>4.993829</td>\n      <td>0.050486</td>\n      <td>0.010146</td>\n      <td>0.000000</td>\n    </tr>\n    <tr>\n      <th>35-44</th>\n      <td>39.494680</td>\n      <td>5.021507</td>\n      <td>0.051679</td>\n      <td>0.010286</td>\n      <td>0.090909</td>\n    </tr>\n    <tr>\n      <th>45-54</th>\n      <td>49.492580</td>\n      <td>5.010406</td>\n      <td>0.050274</td>\n      <td>0.009958</td>\n      <td>0.000000</td>\n    </tr>\n    <tr>\n      <th>55-64</th>\n      <td>59.498189</td>\n      <td>5.022308</td>\n      <td>0.101837</td>\n      <td>0.020307</td>\n      <td>0.166667</td>\n    </tr>\n    <tr>\n      <th>65+</th>\n      <td>72.988697</td>\n      <td>5.012347</td>\n      <td>0.151289</td>\n      <td>0.029803</td>\n      <td>0.200000</td>\n    </tr>\n  </tbody>\n</table>\n</div>"
     },
     "execution_count": 20,
     "metadata": {},
     "output_type": "execute_result"
    }
   ],
   "source": [
    "result['CTR_quantile']=data_from_18.groupby(\"AgeGroup\").CTR.quantile(q=0.95)\n",
    "result"
   ],
   "metadata": {
    "collapsed": false,
    "pycharm": {
     "name": "#%%\n"
    }
   }
  },
  {
   "cell_type": "code",
   "execution_count": 21,
   "outputs": [
    {
     "data": {
      "text/plain": "<matplotlib.axes._subplots.AxesSubplot at 0x196f09556d0>"
     },
     "execution_count": 21,
     "metadata": {},
     "output_type": "execute_result"
    },
    {
     "data": {
      "text/plain": "<Figure size 432x288 with 1 Axes>",
      "image/png": "[encoded data removed]"
     },
     "metadata": {
      "needs_background": "light"
     },
     "output_type": "display_data"
    }
   ],
   "source": [
    "\n",
    "result.CTR_quantile.plot(kind=\"bar\")"
   ],
   "metadata": {
    "collapsed": false,
    "pycharm": {
     "name": "#%%\n"
    }
   }
  },
  {
   "cell_type": "code",
   "execution_count": 22,
   "outputs": [
    {
     "data": {
      "text/plain": "                Age  Impressions mean  Clicks mean       CTR  CTR_quantile  \\\nAgeGroup                                                                     \n18-24     21.269039          5.006635     0.048455  0.009720      0.000000   \n25-34     29.503352          4.993829     0.050486  0.010146      0.000000   \n35-44     39.494680          5.021507     0.051679  0.010286      0.090909   \n45-54     49.492580          5.010406     0.050274  0.009958      0.000000   \n55-64     59.498189          5.022308     0.101837  0.020307      0.166667   \n65+       72.988697          5.012347     0.151289  0.029803      0.200000   \n\n          Impressions_max  \nAgeGroup                   \n18-24                  17  \n25-34                  17  \n35-44                  20  \n45-54                  17  \n55-64                  16  \n65+                    16  ",
      "text/html": "<div>\n<style scoped>\n    .dataframe tbody tr th:only-of-type {\n        vertical-align: middle;\n    }\n\n    .dataframe tbody tr th {\n        vertical-align: top;\n    }\n\n    .dataframe thead th {\n        text-align: right;\n    }\n</style>\n<table border=\"1\" class=\"dataframe\">\n  <thead>\n    <tr style=\"text-align: right;\">\n      <th></th>\n      <th>Age</th>\n      <th>Impressions mean</th>\n      <th>Clicks mean</th>\n      <th>CTR</th>\n      <th>CTR_quantile</th>\n      <th>Impressions_max</th>\n    </tr>\n    <tr>\n      <th>AgeGroup</th>\n      <th></th>\n      <th></th>\n      <th></th>\n      <th></th>\n      <th></th>\n      <th></th>\n    </tr>\n  </thead>\n  <tbody>\n    <tr>\n      <th>18-24</th>\n      <td>21.269039</td>\n      <td>5.006635</td>\n      <td>0.048455</td>\n      <td>0.009720</td>\n      <td>0.000000</td>\n      <td>17</td>\n    </tr>\n    <tr>\n      <th>25-34</th>\n      <td>29.503352</td>\n      <td>4.993829</td>\n      <td>0.050486</td>\n      <td>0.010146</td>\n      <td>0.000000</td>\n      <td>17</td>\n    </tr>\n    <tr>\n      <th>35-44</th>\n      <td>39.494680</td>\n      <td>5.021507</td>\n      <td>0.051679</td>\n      <td>0.010286</td>\n      <td>0.090909</td>\n      <td>20</td>\n    </tr>\n    <tr>\n      <th>45-54</th>\n      <td>49.492580</td>\n      <td>5.010406</td>\n      <td>0.050274</td>\n      <td>0.009958</td>\n      <td>0.000000</td>\n      <td>17</td>\n    </tr>\n    <tr>\n      <th>55-64</th>\n      <td>59.498189</td>\n      <td>5.022308</td>\n      <td>0.101837</td>\n      <td>0.020307</td>\n      <td>0.166667</td>\n      <td>16</td>\n    </tr>\n    <tr>\n      <th>65+</th>\n      <td>72.988697</td>\n      <td>5.012347</td>\n      <td>0.151289</td>\n      <td>0.029803</td>\n      <td>0.200000</td>\n      <td>16</td>\n    </tr>\n  </tbody>\n</table>\n</div>"
     },
     "execution_count": 22,
     "metadata": {},
     "output_type": "execute_result"
    }
   ],
   "source": [
    "result['Impressions_max']=data_from_18.groupby(\"AgeGroup\").Impressions.max()\n",
    "result"
   ],
   "metadata": {
    "collapsed": false,
    "pycharm": {
     "name": "#%%\n"
    }
   }
  },
  {
   "cell_type": "code",
   "execution_count": 23,
   "outputs": [
    {
     "data": {
      "text/plain": "<matplotlib.axes._subplots.AxesSubplot at 0x196f09e5ca0>"
     },
     "execution_count": 23,
     "metadata": {},
     "output_type": "execute_result"
    },
    {
     "data": {
      "text/plain": "<Figure size 432x288 with 1 Axes>",
      "image/png": "[encoded data removed]"
     },
     "metadata": {
      "needs_background": "light"
     },
     "output_type": "display_data"
    }
   ],
   "source": [
    "result.Impressions_max.plot(kind=\"bar\")"
   ],
   "metadata": {
    "collapsed": false,
    "pycharm": {
     "name": "#%%\n"
    }
   }
  },
  {
   "cell_type": "code",
   "execution_count": 24,
   "outputs": [
    {
     "data": {
      "text/plain": "<matplotlib.axes._subplots.AxesSubplot at 0x196f0a4fe80>"
     },
     "execution_count": 24,
     "metadata": {},
     "output_type": "execute_result"
    },
    {
     "data": {
      "text/plain": "<Figure size 432x288 with 1 Axes>",
      "image/png": "[encoded data removed]"
     },
     "metadata": {
      "needs_background": "light"
     },
     "output_type": "display_data"
    }
   ],
   "source": [
    "result['Clicks_max']=data_from_18.groupby(\"AgeGroup\").Clicks.max()\n",
    "result.Clicks_max.plot(kind=\"bar\")"
   ],
   "metadata": {
    "collapsed": false,
    "pycharm": {
     "name": "#%%\n"
    }
   }
  },
  {
   "cell_type": "code",
   "execution_count": 25,
   "outputs": [
    {
     "data": {
      "text/plain": "<matplotlib.axes._subplots.AxesSubplot at 0x196f0ab28b0>"
     },
     "execution_count": 25,
     "metadata": {},
     "output_type": "execute_result"
    },
    {
     "data": {
      "text/plain": "<Figure size 432x288 with 1 Axes>",
      "image/png": "[encoded data removed]"
     },
     "metadata": {
      "needs_background": "light"
     },
     "output_type": "display_data"
    }
   ],
   "source": [
    "result[\"Impressions_dispersion\"]=data_from_18.groupby(\"AgeGroup\").Impressions.std()\n",
    "result.Impressions_dispersion.plot(kind=\"bar\")"
   ],
   "metadata": {
    "collapsed": false,
    "pycharm": {
     "name": "#%%\n"
    }
   }
  },
  {
   "cell_type": "code",
   "execution_count": 26,
   "outputs": [
    {
     "data": {
      "text/plain": "<matplotlib.axes._subplots.AxesSubplot at 0x196f0ab7520>"
     },
     "execution_count": 26,
     "metadata": {},
     "output_type": "execute_result"
    },
    {
     "data": {
      "text/plain": "<Figure size 432x288 with 1 Axes>",
      "image/png": "[encoded data removed]"
     },
     "metadata": {
      "needs_background": "light"
     },
     "output_type": "display_data"
    }
   ],
   "source": [
    "result[\"Clicks_dispersion\"]=data_from_18.groupby(\"AgeGroup\").Clicks.std()\n",
    "result.Clicks_dispersion.plot(kind=\"bar\")"
   ],
   "metadata": {
    "collapsed": false,
    "pycharm": {
     "name": "#%%\n"
    }
   }
  },
  {
   "cell_type": "code",
   "execution_count": 27,
   "outputs": [
    {
     "name": "stderr",
     "output_type": "stream",
     "text": [
      "<ipython-input-27-d8304a429e6f>:9: SettingWithCopyWarning: \n",
      "A value is trying to be set on a copy of a slice from a DataFrame.\n",
      "Try using .loc[row_indexer,col_indexer] = value instead\n",
      "\n",
      "See the caveats in the documentation: https://pandas.pydata.org/pandas-docs/stable/user_guide/indexing.html#returning-a-view-versus-a-copy\n",
      "  age_group[\"AgeGroup\"] = age_group.Age.apply(lambda x: ageGroups(x))\n"
     ]
    },
    {
     "data": {
      "text/plain": "                Age  Impressions_mean  Clicks_mean       CTR  CTR_quantile  \\\nAgeGroup                                                                     \n18-24     21.266569          4.998862     0.049008  0.009717      0.000000   \n25-34     29.493221          4.994947     0.050135  0.010148      0.000000   \n35-44     39.490211          4.997100     0.050827  0.010060      0.000000   \n45-54     49.504917          4.987168     0.051295  0.010065      0.083333   \n55-64     59.506138          5.007956     0.100752  0.020192      0.166667   \n65+       72.978785          5.029751     0.149906  0.029551      0.200000   \n\n          Impressions_max  Clicks_max  Impressions_dispersion  \\\nAgeGroup                                                        \n18-24                  16           3                2.251371   \n25-34                  17           3                2.240874   \n35-44                  17           3                2.232983   \n45-54                  17           3                2.233218   \n55-64                  17           3                2.233261   \n65+                    16           3                2.234815   \n\n          Clicks_dispersion  \nAgeGroup                     \n18-24              0.221623  \n25-34              0.223034  \n35-44              0.225663  \n45-54              0.226401  \n55-64              0.317994  \n65+                0.387375  ",
      "text/html": "<div>\n<style scoped>\n    .dataframe tbody tr th:only-of-type {\n        vertical-align: middle;\n    }\n\n    .dataframe tbody tr th {\n        vertical-align: top;\n    }\n\n    .dataframe thead th {\n        text-align: right;\n    }\n</style>\n<table border=\"1\" class=\"dataframe\">\n  <thead>\n    <tr style=\"text-align: right;\">\n      <th></th>\n      <th>Age</th>\n      <th>Impressions_mean</th>\n      <th>Clicks_mean</th>\n      <th>CTR</th>\n      <th>CTR_quantile</th>\n      <th>Impressions_max</th>\n      <th>Clicks_max</th>\n      <th>Impressions_dispersion</th>\n      <th>Clicks_dispersion</th>\n    </tr>\n    <tr>\n      <th>AgeGroup</th>\n      <th></th>\n      <th></th>\n      <th></th>\n      <th></th>\n      <th></th>\n      <th></th>\n      <th></th>\n      <th></th>\n      <th></th>\n    </tr>\n  </thead>\n  <tbody>\n    <tr>\n      <th>18-24</th>\n      <td>21.266569</td>\n      <td>4.998862</td>\n      <td>0.049008</td>\n      <td>0.009717</td>\n      <td>0.000000</td>\n      <td>16</td>\n      <td>3</td>\n      <td>2.251371</td>\n      <td>0.221623</td>\n    </tr>\n    <tr>\n      <th>25-34</th>\n      <td>29.493221</td>\n      <td>4.994947</td>\n      <td>0.050135</td>\n      <td>0.010148</td>\n      <td>0.000000</td>\n      <td>17</td>\n      <td>3</td>\n      <td>2.240874</td>\n      <td>0.223034</td>\n    </tr>\n    <tr>\n      <th>35-44</th>\n      <td>39.490211</td>\n      <td>4.997100</td>\n      <td>0.050827</td>\n      <td>0.010060</td>\n      <td>0.000000</td>\n      <td>17</td>\n      <td>3</td>\n      <td>2.232983</td>\n      <td>0.225663</td>\n    </tr>\n    <tr>\n      <th>45-54</th>\n      <td>49.504917</td>\n      <td>4.987168</td>\n      <td>0.051295</td>\n      <td>0.010065</td>\n      <td>0.083333</td>\n      <td>17</td>\n      <td>3</td>\n      <td>2.233218</td>\n      <td>0.226401</td>\n    </tr>\n    <tr>\n      <th>55-64</th>\n      <td>59.506138</td>\n      <td>5.007956</td>\n      <td>0.100752</td>\n      <td>0.020192</td>\n      <td>0.166667</td>\n      <td>17</td>\n      <td>3</td>\n      <td>2.233261</td>\n      <td>0.317994</td>\n    </tr>\n    <tr>\n      <th>65+</th>\n      <td>72.978785</td>\n      <td>5.029751</td>\n      <td>0.149906</td>\n      <td>0.029551</td>\n      <td>0.200000</td>\n      <td>16</td>\n      <td>3</td>\n      <td>2.234815</td>\n      <td>0.387375</td>\n    </tr>\n  </tbody>\n</table>\n</div>"
     },
     "execution_count": 27,
     "metadata": {},
     "output_type": "execute_result"
    }
   ],
   "source": [
    "#Task3\n",
    "\n",
    "def data_analysis(day):\n",
    "\n",
    "    data_day = pd.read_csv(f\"./data/nyt{day}.csv\")\n",
    "\n",
    "    data_day_no_null_age = data_day[(data_day.Age > 0)]\n",
    "    age_group = data_day_no_null_age\n",
    "    age_group[\"AgeGroup\"] = age_group.Age.apply(lambda x: ageGroups(x))\n",
    "\n",
    "    data_from_18 = age_group[age_group.Age > 18]\n",
    "    data_from_18 = data_from_18.drop(columns=\"Signed_In\")\n",
    "    data_from_18[\"Gender\"] = data_from_18.Gender.apply(lambda x: gender_classify(x))\n",
    "    data_from_18[\"CTR\"] = data_from_18.Clicks / data_from_18.Impressions\n",
    "\n",
    "    result = data_from_18.groupby(\"AgeGroup\").mean()\n",
    "    result.rename(columns={\"Impressions\": \"Impressions_mean\", \"Clicks\": \"Clicks_mean\"}, inplace=True)\n",
    "    result[\"CTR_quantile\"] = data_from_18.groupby(\"AgeGroup\").CTR.quantile(q=0.95)\n",
    "    result[\"Impressions_max\"] = data_from_18.groupby(\"AgeGroup\").Impressions.max()\n",
    "    result[\"Clicks_max\"] = data_from_18.groupby(\"AgeGroup\").Clicks.max()\n",
    "    result[\"Impressions_dispersion\"] = data_from_18.groupby(\"AgeGroup\").Impressions.std()\n",
    "    result[\"Clicks_dispersion\"] = data_from_18.groupby(\"AgeGroup\").Clicks.std()\n",
    "\n",
    "    return result\n",
    "\n",
    "\n",
    "data_analysis(4)"
   ],
   "metadata": {
    "collapsed": false,
    "pycharm": {
     "name": "#%%\n"
    }
   }
  },
  {
   "cell_type": "code",
   "execution_count": 28,
   "outputs": [
    {
     "name": "stderr",
     "output_type": "stream",
     "text": [
      "<ipython-input-27-d8304a429e6f>:9: SettingWithCopyWarning: \n",
      "A value is trying to be set on a copy of a slice from a DataFrame.\n",
      "Try using .loc[row_indexer,col_indexer] = value instead\n",
      "\n",
      "See the caveats in the documentation: https://pandas.pydata.org/pandas-docs/stable/user_guide/indexing.html#returning-a-view-versus-a-copy\n",
      "  age_group[\"AgeGroup\"] = age_group.Age.apply(lambda x: ageGroups(x))\n"
     ]
    },
    {
     "data": {
      "text/plain": "<matplotlib.axes._subplots.AxesSubplot at 0x196f0b62310>"
     },
     "execution_count": 28,
     "metadata": {},
     "output_type": "execute_result"
    },
    {
     "data": {
      "text/plain": "<Figure size 432x288 with 1 Axes>",
      "image/png": "[encoded data removed]"
     },
     "metadata": {
      "needs_background": "light"
     },
     "output_type": "display_data"
    }
   ],
   "source": [
    "ax = result.CTR.plot()\n",
    "data_analysis(5).CTR.plot(ax=ax)"
   ],
   "metadata": {
    "collapsed": false,
    "pycharm": {
     "name": "#%%\n"
    }
   }
  }
 ],
 "metadata": {
  "kernelspec": {
   "display_name": "Python 3",
   "language": "python",
   "name": "python3"
  },
  "language_info": {
   "codemirror_mode": {
    "name": "ipython",
    "version": 2
   },
   "file_extension": ".py",
   "mimetype": "text/x-python",
   "name": "python",
   "nbconvert_exporter": "python",
   "pygments_lexer": "ipython2",
   "version": "2.7.6"
  }
 },
 "nbformat": 4,
 "nbformat_minor": 0
}